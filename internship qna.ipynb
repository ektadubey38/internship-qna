{
 "cells": [
  {
   "cell_type": "code",
   "execution_count": 20,
   "metadata": {},
   "outputs": [
    {
     "name": "stdout",
     "output_type": "stream",
     "text": [
      "Enter a number350\n",
      "2\n",
      "5\n",
      "7\n"
     ]
    }
   ],
   "source": [
    "#Ans1. Python Program for Efficient program to print all prime factors of a given number\n",
    "num=int(input('Enter a number'))\n",
    "i=1\n",
    "while(i<=num):\n",
    "    temp=0\n",
    "    if(num%i==0):\n",
    "        temp2=1\n",
    "        while(temp2<=i):\n",
    "            if(i%temp2==0):\n",
    "                temp=temp+1\n",
    "            temp2=temp2+1\n",
    "        if(temp==2):\n",
    "            print(i)\n",
    "    i=i+1\n"
   ]
  },
  {
   "cell_type": "code",
   "execution_count": 21,
   "metadata": {},
   "outputs": [
    {
     "name": "stdout",
     "output_type": "stream",
     "text": [
      "Enter a number350\n",
      "70\n"
     ]
    }
   ],
   "source": [
    "#Ans2. Python Program for Product of unique prime factors of a number\n",
    "num=int(input('Enter a number'))\n",
    "i=1\n",
    "c=1\n",
    "while(i<=num):\n",
    "    temp=0\n",
    "    if(num%i==0):\n",
    "        temp2=1\n",
    "        while(temp2<=i):\n",
    "            if(i%temp2==0):\n",
    "                temp=temp+1\n",
    "            temp2=temp2+1\n",
    "        if(temp==2):\n",
    "            c=c*i\n",
    "            \n",
    "    i=i+1\n",
    "print(c)"
   ]
  },
  {
   "cell_type": "code",
   "execution_count": null,
   "metadata": {},
   "outputs": [],
   "source": []
  }
 ],
 "metadata": {
  "kernelspec": {
   "display_name": "Python 3",
   "language": "python",
   "name": "python3"
  },
  "language_info": {
   "codemirror_mode": {
    "name": "ipython",
    "version": 3
   },
   "file_extension": ".py",
   "mimetype": "text/x-python",
   "name": "python",
   "nbconvert_exporter": "python",
   "pygments_lexer": "ipython3",
   "version": "3.7.7"
  }
 },
 "nbformat": 4,
 "nbformat_minor": 4
}
